{
 "cells": [
  {
   "cell_type": "code",
   "execution_count": 14,
   "metadata": {},
   "outputs": [],
   "source": [
    "from selenium import webdriver\n",
    "from selenium.webdriver.common.keys import Keys\n",
    "from selenium.webdriver.common.by import By\n",
    "import pandas as pd"
   ]
  },
  {
   "cell_type": "code",
   "execution_count": 9,
   "metadata": {},
   "outputs": [
    {
     "name": "stderr",
     "output_type": "stream",
     "text": [
      "C:\\Users\\jhu3\\AppData\\Local\\Temp\\ipykernel_14232\\1911256254.py:1: DeprecationWarning: executable_path has been deprecated, please pass in a Service object\n",
      "  driver=webdriver.Edge('./msedgedriver.exe')\n"
     ]
    }
   ],
   "source": [
    "driver=webdriver.Edge('./msedgedriver.exe')"
   ]
  },
  {
   "cell_type": "code",
   "execution_count": 10,
   "metadata": {},
   "outputs": [],
   "source": [
    "\n",
    "url=\"https://ca.finance.yahoo.com/quote/OTEX?p=OTEX\"\n",
    "driver.get(url)"
   ]
  },
  {
   "cell_type": "code",
   "execution_count": 18,
   "metadata": {},
   "outputs": [],
   "source": [
    "quote_summary_table=driver.find_elements(By.TAG_NAME,\"a\")\n",
    "quote_summary_table"
   ]
  },
  {
   "cell_type": "code",
   "execution_count": 6,
   "metadata": {},
   "outputs": [],
   "source": [
    "quote_summary_table=soup.find(id=\"quote-summary\")\n",
    "table_rows = quote_summary_table.find_all('td')"
   ]
  },
  {
   "cell_type": "code",
   "execution_count": 7,
   "metadata": {},
   "outputs": [],
   "source": [
    "text = []\n",
    "value = []\n",
    "for idx,row in enumerate(table_rows):\n",
    "    if (idx % 2) == 0:\n",
    "        text.append(row.text)\n",
    "    else:\n",
    "        value.append(row.text)"
   ]
  },
  {
   "cell_type": "code",
   "execution_count": 8,
   "metadata": {},
   "outputs": [
    {
     "data": {
      "text/plain": [
       "['Previous Close',\n",
       " 'Open',\n",
       " 'Bid',\n",
       " 'Ask',\n",
       " \"Day's Range\",\n",
       " '52 Week Range',\n",
       " 'Volume',\n",
       " 'Avg. Volume',\n",
       " 'Market Cap',\n",
       " 'Beta (5Y Monthly)',\n",
       " 'PE Ratio (TTM)',\n",
       " 'EPS (TTM)',\n",
       " 'Earnings Date',\n",
       " 'Forward Dividend & Yield',\n",
       " 'Ex-Dividend Date',\n",
       " '1y Target Est']"
      ]
     },
     "execution_count": 8,
     "metadata": {},
     "output_type": "execute_result"
    }
   ],
   "source": [
    "text"
   ]
  },
  {
   "cell_type": "code",
   "execution_count": 30,
   "metadata": {},
   "outputs": [
    {
     "data": {
      "text/plain": [
       "16"
      ]
     },
     "execution_count": 30,
     "metadata": {},
     "output_type": "execute_result"
    }
   ],
   "source": [
    "len(value)"
   ]
  },
  {
   "cell_type": "code",
   "execution_count": null,
   "metadata": {},
   "outputs": [],
   "source": []
  }
 ],
 "metadata": {
  "kernelspec": {
   "display_name": "venv",
   "language": "python",
   "name": "python3"
  },
  "language_info": {
   "codemirror_mode": {
    "name": "ipython",
    "version": 3
   },
   "file_extension": ".py",
   "mimetype": "text/x-python",
   "name": "python",
   "nbconvert_exporter": "python",
   "pygments_lexer": "ipython3",
   "version": "3.11.2"
  },
  "orig_nbformat": 4
 },
 "nbformat": 4,
 "nbformat_minor": 2
}
